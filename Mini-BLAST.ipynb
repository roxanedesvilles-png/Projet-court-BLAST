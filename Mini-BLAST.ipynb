{
 "cells": [
  {
   "cell_type": "markdown",
   "metadata": {
    "id": "4us5t62FuwG0"
   },
   "source": [
    "# **BLAST 1 version mini**"
   ]
  },
  {
   "cell_type": "markdown",
   "metadata": {
    "id": "MbJjpExAu77O"
   },
   "source": [
    "## *Étape 1 : prétraitement de la query*"
   ]
  },
  {
   "cell_type": "markdown",
   "metadata": {
    "id": "yt9X20KBvJcl"
   },
   "source": [
    "La séquence requête (query) est comparée à un dictionnaire de \"mots\" d'une longueur w, présents dans la banque de données. \n",
    "Pour simplifier ici on prendra des séquences d'ADN, le dictionnaire comprendra les 64 codons possibles (w=3). \n",
    "L'algorithme va générer une query aléatoire à partir des 4 bases d'ADN, d'une longueur variable, lire tous les \"mots\" possibles contenus dans cette séquence query qui sont aussi présents dans le dictionnaire."
   ]
  },
  {
   "cell_type": "code",
   "execution_count": 16,
   "metadata": {
    "colab": {
     "base_uri": "https://localhost:8080/"
    },
    "executionInfo": {
     "elapsed": 13,
     "status": "ok",
     "timestamp": 1756821979255,
     "user": {
      "displayName": "Roxane Desvilles",
      "userId": "05930149721294321605"
     },
     "user_tz": -120
    },
    "id": "K38y7a6ouo9t",
    "outputId": "f635181e-fb69-4272-aa24-82e5611a1469"
   },
   "outputs": [
    {
     "name": "stdout",
     "output_type": "stream",
     "text": [
      "['AAA', 'AAT', 'AAG', 'AAC', 'ATA', 'ATT', 'ATG', 'ATC', 'AGA', 'AGT']\n"
     ]
    }
   ],
   "source": [
    "#création du dictionnaire de codons :\n",
    "from itertools import product\n",
    "\n",
    "def generate_codons(alphabet=\"ATGC\", w=3):\n",
    "    return [''.join(p) for p in product(alphabet, repeat=w)]\n",
    "\n",
    "dico_codons = generate_codons()\n",
    "print(dico_codons[:10])  # vérifier"
   ]
  },
  {
   "cell_type": "code",
   "execution_count": 17,
   "metadata": {
    "colab": {
     "base_uri": "https://localhost:8080/"
    },
    "executionInfo": {
     "elapsed": 5,
     "status": "ok",
     "timestamp": 1756822103360,
     "user": {
      "displayName": "Roxane Desvilles",
      "userId": "05930149721294321605"
     },
     "user_tz": -120
    },
    "id": "xknUwlgqv_9o",
    "outputId": "d547b1b3-3353-42d2-ae99-23980132b179"
   },
   "outputs": [
    {
     "name": "stdout",
     "output_type": "stream",
     "text": [
      "['AAA', 'AAT', 'AAG', 'AAC', 'ATA', 'ATT', 'ATG', 'ATC', 'AGA', 'AGT', 'AGG', 'AGC', 'ACA', 'ACT', 'ACG', 'ACC', 'TAA', 'TAT', 'TAG', 'TAC', 'TTA', 'TTT', 'TTG', 'TTC', 'TGA', 'TGT', 'TGG', 'TGC', 'TCA', 'TCT', 'TCG', 'TCC', 'GAA', 'GAT', 'GAG', 'GAC', 'GTA', 'GTT', 'GTG', 'GTC', 'GGA', 'GGT', 'GGG', 'GGC', 'GCA', 'GCT', 'GCG', 'GCC', 'CAA', 'CAT', 'CAG', 'CAC', 'CTA', 'CTT', 'CTG', 'CTC', 'CGA', 'CGT', 'CGG', 'CGC', 'CCA', 'CCT', 'CCG', 'CCC']\n",
      "64\n"
     ]
    }
   ],
   "source": [
    "print(dico_codons)\n",
    "print(len(dico_codons))"
   ]
  },
  {
   "cell_type": "code",
   "execution_count": 37,
   "metadata": {
    "colab": {
     "base_uri": "https://localhost:8080/"
    },
    "executionInfo": {
     "elapsed": 4,
     "status": "ok",
     "timestamp": 1756823090609,
     "user": {
      "displayName": "Roxane Desvilles",
      "userId": "05930149721294321605"
     },
     "user_tz": -120
    },
    "id": "f8jCE5RGwHsa",
    "outputId": "b712c736-88b4-4718-b1ea-7f62337d2c71"
   },
   "outputs": [
    {
     "name": "stdout",
     "output_type": "stream",
     "text": [
      "GGACTCGCGCTATAGAAAAATGGGGTCACTGCACCCCGGTTTTCGACCGA\n"
     ]
    }
   ],
   "source": [
    "#création d'une fonction générant aléatoirement une séquence requête (query) :\n",
    "import random\n",
    "\n",
    "def random_query(length=10, alphabet=\"ATGC\"): #10 est la longueur de la query générée par défaut si on n'indique pas d'argument autre que 10 quand on appelle la fonction\n",
    "    return ''.join(random.choice(alphabet) for _ in range(length))\n",
    "\n",
    "query = random_query(50) #indiquer en argument un nombre suffisamment grand pour pertinence\n",
    "print(query)"
   ]
  },
  {
   "cell_type": "code",
   "execution_count": 38,
   "metadata": {
    "colab": {
     "base_uri": "https://localhost:8080/"
    },
    "executionInfo": {
     "elapsed": 7,
     "status": "ok",
     "timestamp": 1756823071862,
     "user": {
      "displayName": "Roxane Desvilles",
      "userId": "05930149721294321605"
     },
     "user_tz": -120
    },
    "id": "rKN-fzXNxA-0",
    "outputId": "c56bc2c1-fb2e-4f3c-a960-f4e8702c4cfa"
   },
   "outputs": [
    {
     "name": "stdout",
     "output_type": "stream",
     "text": [
      "Seq1 ATGCGTACGTA\n",
      "Seq2 TTGCGTACCTA\n",
      "Seq3 ATCCGTACGGA\n",
      "Seq4 GGCATCGTACC\n",
      "Seq5 CCTAGCGTATG\n"
     ]
    }
   ],
   "source": [
    "#création de la \"banque\" de données simplifiée (dictionnaire) :\n",
    "mini_banque = {\n",
    "    \"Seq1\": \"ATGCGTACGTA\",\n",
    "    \"Seq2\": \"TTGCGTACCTA\",\n",
    "    \"Seq3\": \"ATCCGTACGGA\",           #modifier plus tard\n",
    "    \"Seq4\": \"GGCATCGTACC\",\n",
    "    \"Seq5\": \"CCTAGCGTATG\"\n",
    "}\n",
    "\n",
    "# Affichage rapide pour vérifier\n",
    "for name, seq in mini_banque.items():\n",
    "    print(name, seq)"
   ]
  },
  {
   "cell_type": "code",
   "execution_count": 39,
   "metadata": {
    "colab": {
     "base_uri": "https://localhost:8080/"
    },
    "executionInfo": {
     "elapsed": 40,
     "status": "ok",
     "timestamp": 1756823608085,
     "user": {
      "displayName": "Roxane Desvilles",
      "userId": "05930149721294321605"
     },
     "user_tz": -120
    },
    "id": "89h7XVmG0Ksp",
    "outputId": "f8c2d4b7-93c5-4e64-b583-1b685eeabd78"
   },
   "outputs": [
    {
     "name": "stdout",
     "output_type": "stream",
     "text": [
      "k-mers de la query : ['GGA', 'GAC', 'ACT', 'CTC', 'TCG', 'CGC', 'GCG', 'CGC', 'GCT', 'CTA', 'TAT', 'ATA', 'TAG', 'AGA', 'GAA', 'AAA', 'AAA', 'AAA', 'AAT', 'ATG', 'TGG', 'GGG', 'GGG', 'GGT', 'GTC', 'TCA', 'CAC', 'ACT', 'CTG', 'TGC', 'GCA', 'CAC', 'ACC', 'CCC', 'CCC', 'CCG', 'CGG', 'GGT', 'GTT', 'TTT', 'TTT', 'TTC', 'TCG', 'CGA', 'GAC', 'ACC', 'CCG', 'CGA']\n"
     ]
    }
   ],
   "source": [
    "#découpage de la query en k-mers (mots) :\n",
    "# Paramètres\n",
    "w = 3  # longueur des mots\n",
    "T = 2  # score minimal pour qu'un mot soit significatif\n",
    "\n",
    "def k_mers(sequence, w):\n",
    "    return [sequence[i:i+w] for i in range(len(sequence)-w+1)]\n",
    "\n",
    "query_kmers = k_mers(query, w)\n",
    "print(\"k-mers de la query :\", query_kmers)"
   ]
  },
  {
   "cell_type": "code",
   "execution_count": 40,
   "metadata": {
    "executionInfo": {
     "elapsed": 4,
     "status": "ok",
     "timestamp": 1756823819701,
     "user": {
      "displayName": "Roxane Desvilles",
      "userId": "05930149721294321605"
     },
     "user_tz": -120
    },
    "id": "zvWXXpwx2Nnf"
   },
   "outputs": [],
   "source": [
    "#comparaison des k-mers de la query à tous les k-mers du dictionnaire de codons :\n",
    "#Fonction pour calculer le score entre deux mots\n",
    "def score_mot(mot1, mot2):\n",
    "    return sum(1 if a == b else -1 for a, b in zip(mot1, mot2))"
   ]
  },
  {
   "cell_type": "code",
   "execution_count": 41,
   "metadata": {
    "colab": {
     "base_uri": "https://localhost:8080/"
    },
    "executionInfo": {
     "elapsed": 10,
     "status": "ok",
     "timestamp": 1756823912887,
     "user": {
      "displayName": "Roxane Desvilles",
      "userId": "05930149721294321605"
     },
     "user_tz": -120
    },
    "id": "zEWk_Kyq3BSd",
    "outputId": "9acc25c9-f44f-4bb3-f43e-f6a1703d71d9"
   },
   "outputs": [
    {
     "name": "stdout",
     "output_type": "stream",
     "text": [
      "Mots significatifs : {'GGA': ['GGA'], 'GAC': ['GAC'], 'ACT': ['ACT'], 'CTC': ['CTC'], 'TCG': ['TCG'], 'CGC': ['CGC'], 'GCG': ['GCG'], 'GCT': ['GCT'], 'CTA': ['CTA'], 'TAT': ['TAT'], 'ATA': ['ATA'], 'TAG': ['TAG'], 'AGA': ['AGA'], 'GAA': ['GAA'], 'AAA': ['AAA'], 'AAT': ['AAT'], 'ATG': ['ATG'], 'TGG': ['TGG'], 'GGG': ['GGG'], 'GGT': ['GGT'], 'GTC': ['GTC'], 'TCA': ['TCA'], 'CAC': ['CAC'], 'CTG': ['CTG'], 'TGC': ['TGC'], 'GCA': ['GCA'], 'ACC': ['ACC'], 'CCC': ['CCC'], 'CCG': ['CCG'], 'CGG': ['CGG'], 'GTT': ['GTT'], 'TTT': ['TTT'], 'TTC': ['TTC'], 'CGA': ['CGA']}\n"
     ]
    }
   ],
   "source": [
    "#identification des mots significatifs (potentiels hits) :\n",
    "#Identification des mots significatifs (score >= T)\n",
    "def mots_significatifs(query_kmers, dico_codons, T):\n",
    "    resultats = {}\n",
    "    for km in query_kmers:\n",
    "        voisins = [mot for mot in dico_codons if score_mot(km, mot) >= T]\n",
    "        if voisins:\n",
    "            resultats[km] = voisins\n",
    "    return resultats\n",
    "\n",
    "mots_signifs = mots_significatifs(query_kmers, dico_codons, T)\n",
    "print(\"Mots significatifs :\", mots_signifs)"
   ]
  },
  {
   "cell_type": "code",
   "execution_count": 42,
   "metadata": {
    "colab": {
     "base_uri": "https://localhost:8080/"
    },
    "executionInfo": {
     "elapsed": 10,
     "status": "ok",
     "timestamp": 1756824072934,
     "user": {
      "displayName": "Roxane Desvilles",
      "userId": "05930149721294321605"
     },
     "user_tz": -120
    },
    "id": "TccINko13YC2",
    "outputId": "2f289dd5-f2c2-4201-aeab-f34ea4eff5d5"
   },
   "outputs": [
    {
     "name": "stdout",
     "output_type": "stream",
     "text": [
      "Hits trouvés dans la banque : {'Seq1': [('GCG', 2), ('ATG', 0), ('TGC', 1)], 'Seq2': [('GCG', 2), ('CTA', 8), ('TGC', 1), ('ACC', 6)], 'Seq3': [('GGA', 8), ('CCG', 2), ('CGG', 7)], 'Seq4': [('TCG', 4), ('GCA', 1), ('ACC', 8)], 'Seq5': [('GCG', 4), ('CTA', 1), ('TAT', 7), ('TAG', 2), ('ATG', 8)]}\n"
     ]
    }
   ],
   "source": [
    "#recherche des hits dans la banque :\n",
    "#Recherche des hits dans la mini banque\n",
    "hits = {}\n",
    "for name, seq in mini_banque.items():\n",
    "    hits_seq = []\n",
    "    for km in mots_signifs.keys():\n",
    "        pos = seq.find(km)\n",
    "        if pos != -1 :\n",
    "            hits_seq.append((km, pos))\n",
    "    if hits_seq:\n",
    "        hits[name] = hits_seq\n",
    "\n",
    "print(\"Hits trouvés dans la banque :\", hits)"
   ]
  },
  {
   "cell_type": "code",
   "execution_count": 43,
   "metadata": {},
   "outputs": [
    {
     "name": "stdout",
     "output_type": "stream",
     "text": [
      "Debug: Hit 'GCG' initial, score max atteint 3\n",
      "Debug: Hit 'ATG' initial, score max atteint 3\n",
      "Debug: Hit 'TGC' initial, score max atteint 3\n",
      "Debug: Hit 'GCG' initial, score max atteint 3\n",
      "Debug: Hit 'CTA' initial, score max atteint 3\n",
      "Debug: Hit 'TGC' initial, score max atteint 3\n",
      "Debug: Hit 'ACC' initial, score max atteint 3\n",
      "Debug: Hit 'GGA' initial, score max atteint 3\n",
      "Debug: Hit 'CCG' initial, score max atteint 3\n",
      "Debug: Hit 'CGG' initial, score max atteint 3\n",
      "Debug: Hit 'TCG' initial, score max atteint 3\n",
      "Debug: Hit 'GCA' initial, score max atteint 3\n",
      "Debug: Hit 'ACC' initial, score max atteint 3\n",
      "Debug: Hit 'GCG' initial, score max atteint 4\n",
      "Debug: Hit 'CTA' initial, score max atteint 3\n",
      "Debug: Hit 'TAT' initial, score max atteint 3\n",
      "Debug: Hit 'TAG' initial, score max atteint 3\n",
      "Debug: Hit 'ATG' initial, score max atteint 3\n",
      "\n",
      "Résultats extension (HSPs et MSPs) :\n",
      "Seq1: {'HSPs': [((6, 9, 2, 5), 3), ((19, 22, 0, 3), 3), ((29, 32, 1, 4), 3)], 'MSP': ((6, 9, 2, 5), 3)}\n",
      "Seq2: {'HSPs': [((6, 9, 2, 5), 3), ((9, 12, 8, 11), 3), ((29, 32, 1, 4), 3), ((32, 35, 6, 9), 3)], 'MSP': ((6, 9, 2, 5), 3)}\n",
      "Seq3: {'HSPs': [((0, 3, 8, 11), 3), ((35, 38, 2, 5), 3), ((36, 39, 7, 10), 3)], 'MSP': ((0, 3, 8, 11), 3)}\n",
      "Seq4: {'HSPs': [((4, 7, 4, 7), 3), ((30, 33, 1, 4), 3), ((32, 35, 8, 11), 3)], 'MSP': ((4, 7, 4, 7), 3)}\n",
      "Seq5: {'HSPs': [((3, 9, 1, 7), 4), ((9, 12, 1, 4), 3), ((10, 13, 7, 10), 3), ((12, 15, 2, 5), 3), ((19, 22, 8, 11), 3)], 'MSP': ((3, 9, 1, 7), 4)}\n"
     ]
    }
   ],
   "source": [
    "#Extension sans gap avec debug\n",
    "def extend_hit(query, seq, q_start, s_start, length, X=2, V=2):\n",
    "    \"\"\"\n",
    "    q_start : position du hit dans la query\n",
    "    s_start : position du hit dans la séquence\n",
    "    length  : taille du hit (ici 3)\n",
    "    X       : tolérance de chute du score\n",
    "    V       : seuil pour garder un HSP\n",
    "    \"\"\"\n",
    "    best_score = score = sum(1 for i in range(length) if query[q_start+i] == seq[s_start+i])\n",
    "    best_segment = (q_start, q_start+length, s_start, s_start+length)\n",
    "\n",
    "    # --- Extension à gauche ---\n",
    "    i, j = q_start-1, s_start-1\n",
    "    while i >= 0 and j >= 0:\n",
    "        score += 1 if query[i] == seq[j] else -1\n",
    "        if score > best_score:\n",
    "            best_score = score\n",
    "            best_segment = (i, best_segment[1], j, best_segment[3])\n",
    "        if best_score - score >= X:\n",
    "            break\n",
    "        i, j = i-1, j-1\n",
    "\n",
    "    # --- Extension à droite ---\n",
    "    i, j = best_segment[1], best_segment[3]\n",
    "    while i < len(query) and j < len(seq):\n",
    "        score += 1 if query[i] == seq[j] else -1\n",
    "        if score > best_score:\n",
    "            best_score = score\n",
    "            best_segment = (best_segment[0], i+1, best_segment[2], j+1)\n",
    "        if best_score - score >= X:\n",
    "            break\n",
    "        i, j = i+1, j+1\n",
    "\n",
    "    print(f\"Debug: Hit '{query[q_start:q_start+length]}' initial, score max atteint {best_score}\")\n",
    "\n",
    "    if best_score >= V:\n",
    "        return best_segment, best_score\n",
    "    else:\n",
    "        return None, best_score\n",
    "\n",
    "#Application sur tous les hits\n",
    "HSPs = {}\n",
    "for name, seq_hits in hits.items():\n",
    "    seq = mini_banque[name]\n",
    "    hsp_list = []\n",
    "    for km, pos in seq_hits:\n",
    "        q_pos = query.find(km)\n",
    "        hsp, score = extend_hit(query, seq, q_pos, pos, len(km))\n",
    "        if hsp:\n",
    "            hsp_list.append((hsp, score))\n",
    "    if hsp_list:\n",
    "        MSP = max(hsp_list, key=lambda x: x[1])\n",
    "        HSPs[name] = {\"HSPs\": hsp_list, \"MSP\": MSP}\n",
    "\n",
    "# --- Affichage final ---\n",
    "print(\"\\nRésultats extension (HSPs et MSPs) :\")\n",
    "for name, data in HSPs.items():\n",
    "    print(f\"{name}: {data}\")"
   ]
  },
  {
   "cell_type": "code",
   "execution_count": null,
   "metadata": {},
   "outputs": [],
   "source": []
  }
 ],
 "metadata": {
  "colab": {
   "authorship_tag": "ABX9TyPBzVi9XQgAKjNTNCCHz5dP",
   "provenance": [],
   "toc_visible": true
  },
  "kernelspec": {
   "display_name": "Python 3 (ipykernel)",
   "language": "python",
   "name": "python3"
  },
  "language_info": {
   "codemirror_mode": {
    "name": "ipython",
    "version": 3
   },
   "file_extension": ".py",
   "mimetype": "text/x-python",
   "name": "python",
   "nbconvert_exporter": "python",
   "pygments_lexer": "ipython3",
   "version": "3.13.0"
  }
 },
 "nbformat": 4,
 "nbformat_minor": 4
}
